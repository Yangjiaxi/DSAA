{
 "cells": [
  {
   "cell_type": "code",
   "execution_count": 1,
   "metadata": {},
   "outputs": [],
   "source": [
    "import numpy as np"
   ]
  },
  {
   "cell_type": "code",
   "execution_count": 2,
   "metadata": {},
   "outputs": [],
   "source": [
    "import seaborn as sb\n",
    "import matplotlib.pyplot as plt\n",
    "%matplotlib inline"
   ]
  },
  {
   "cell_type": "code",
   "execution_count": 3,
   "metadata": {},
   "outputs": [],
   "source": [
    "import subprocess\n",
    "from tqdm import tqdm"
   ]
  },
  {
   "cell_type": "code",
   "execution_count": 4,
   "metadata": {},
   "outputs": [],
   "source": [
    "sb.set()\n",
    "plt.rcParams['figure.figsize'] = [3, 2]\n",
    "plt.rcParams['figure.dpi'] = 144\n",
    "plt.rcParams['axes.unicode_minus'] = False\n",
    "sb.set_style(\"ticks\")"
   ]
  },
  {
   "cell_type": "code",
   "execution_count": 5,
   "metadata": {},
   "outputs": [],
   "source": [
    "cmd1 = \"gcc main.c -o a.o\"\n",
    "cmd2 = \"./a.o\"\n",
    "cmd3 = \"rm a.o\""
   ]
  },
  {
   "cell_type": "code",
   "execution_count": 6,
   "metadata": {},
   "outputs": [
    {
     "data": {
      "text/plain": [
       "0"
      ]
     },
     "execution_count": 6,
     "metadata": {},
     "output_type": "execute_result"
    }
   ],
   "source": [
    "subprocess.call(cmd1, shell=True)"
   ]
  },
  {
   "cell_type": "code",
   "execution_count": 7,
   "metadata": {},
   "outputs": [],
   "source": [
    "def run_test(cmd, size, method):\n",
    "    res = {}\n",
    "    for mth in method:\n",
    "        res[mth] = {\"size\":[], \"ticks\":[]}\n",
    "        for sz in tqdm(size):\n",
    "            cmd_s = cmd + \" \" + str(sz) + \" \" + str(mth)\n",
    "            tmp = 0\n",
    "            for _ in range(20):\n",
    "                tmp += int(subprocess.check_output(cmd_s.split(\" \")).decode(\"utf-8\"))\n",
    "            res[mth][\"size\"].append(sz)\n",
    "            res[mth][\"ticks\"].append(tmp / 20)\n",
    "        res[mth][\"size\"] = np.array(res[mth][\"size\"])\n",
    "        res[mth][\"ticks\"] = np.array(res[mth][\"ticks\"])\n",
    "    return res"
   ]
  },
  {
   "cell_type": "code",
   "execution_count": 13,
   "metadata": {},
   "outputs": [
    {
     "name": "stderr",
     "output_type": "stream",
     "text": [
      "100%|██████████| 160/160 [00:14<00:00, 11.40it/s]\n"
     ]
    }
   ],
   "source": [
    "res = run_test(cmd2, np.arange(100, 4100, 25), [4])"
   ]
  },
  {
   "cell_type": "code",
   "execution_count": 14,
   "metadata": {},
   "outputs": [
    {
     "data": {
      "text/plain": [
       "[<matplotlib.lines.Line2D at 0x1a1a57c048>]"
      ]
     },
     "execution_count": 14,
     "metadata": {},
     "output_type": "execute_result"
    },
    {
     "data": {
      "image/png": "[encoded data removed]",
      "text/plain": [
       "<Figure size 432x288 with 1 Axes>"
      ]
     },
     "metadata": {},
     "output_type": "display_data"
    }
   ],
   "source": [
    "plt.plot(res[4][\"size\"], res[4][\"ticks\"])"
   ]
  },
  {
   "cell_type": "code",
   "execution_count": null,
   "metadata": {},
   "outputs": [],
   "source": []
  }
 ],
 "metadata": {
  "kernelspec": {
   "display_name": "Python 3",
   "language": "python",
   "name": "python3"
  },
  "language_info": {
   "codemirror_mode": {
    "name": "ipython",
    "version": 3
   },
   "file_extension": ".py",
   "mimetype": "text/x-python",
   "name": "python",
   "nbconvert_exporter": "python",
   "pygments_lexer": "ipython3",
   "version": "3.6.5"
  }
 },
 "nbformat": 4,
 "nbformat_minor": 2
}
